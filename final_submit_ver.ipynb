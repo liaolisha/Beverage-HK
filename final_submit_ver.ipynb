{
 "cells": [
  {
   "cell_type": "code",
   "execution_count": 2,
   "metadata": {},
   "outputs": [
    {
     "name": "stdout",
     "output_type": "stream",
     "text": [
      "Requirement already satisfied: selenium in c:\\users\\cccch\\onedrive\\desktop\\myprojecta\\projecta\\lib\\site-packages (4.21.0)\n",
      "Requirement already satisfied: urllib3<3,>=1.26 in c:\\users\\cccch\\onedrive\\desktop\\myprojecta\\projecta\\lib\\site-packages (from urllib3[socks]<3,>=1.26->selenium) (2.2.1)\n",
      "Requirement already satisfied: trio~=0.17 in c:\\users\\cccch\\onedrive\\desktop\\myprojecta\\projecta\\lib\\site-packages (from selenium) (0.25.1)\n",
      "Requirement already satisfied: trio-websocket~=0.9 in c:\\users\\cccch\\onedrive\\desktop\\myprojecta\\projecta\\lib\\site-packages (from selenium) (0.11.1)\n",
      "Requirement already satisfied: certifi>=2021.10.8 in c:\\users\\cccch\\onedrive\\desktop\\myprojecta\\projecta\\lib\\site-packages (from selenium) (2024.2.2)\n",
      "Requirement already satisfied: typing_extensions>=4.9.0 in c:\\users\\cccch\\onedrive\\desktop\\myprojecta\\projecta\\lib\\site-packages (from selenium) (4.11.0)\n",
      "Requirement already satisfied: attrs>=23.2.0 in c:\\users\\cccch\\onedrive\\desktop\\myprojecta\\projecta\\lib\\site-packages (from trio~=0.17->selenium) (23.2.0)\n",
      "Requirement already satisfied: sortedcontainers in c:\\users\\cccch\\onedrive\\desktop\\myprojecta\\projecta\\lib\\site-packages (from trio~=0.17->selenium) (2.4.0)\n",
      "Requirement already satisfied: idna in c:\\users\\cccch\\onedrive\\desktop\\myprojecta\\projecta\\lib\\site-packages (from trio~=0.17->selenium) (3.7)\n",
      "Requirement already satisfied: outcome in c:\\users\\cccch\\onedrive\\desktop\\myprojecta\\projecta\\lib\\site-packages (from trio~=0.17->selenium) (1.3.0.post0)\n",
      "Requirement already satisfied: sniffio>=1.3.0 in c:\\users\\cccch\\onedrive\\desktop\\myprojecta\\projecta\\lib\\site-packages (from trio~=0.17->selenium) (1.3.1)\n",
      "Requirement already satisfied: cffi>=1.14 in c:\\users\\cccch\\onedrive\\desktop\\myprojecta\\projecta\\lib\\site-packages (from trio~=0.17->selenium) (1.16.0)\n",
      "Requirement already satisfied: wsproto>=0.14 in c:\\users\\cccch\\onedrive\\desktop\\myprojecta\\projecta\\lib\\site-packages (from trio-websocket~=0.9->selenium) (1.2.0)\n",
      "Requirement already satisfied: pysocks!=1.5.7,<2.0,>=1.5.6 in c:\\users\\cccch\\onedrive\\desktop\\myprojecta\\projecta\\lib\\site-packages (from urllib3[socks]<3,>=1.26->selenium) (1.7.1)\n",
      "Requirement already satisfied: pycparser in c:\\users\\cccch\\onedrive\\desktop\\myprojecta\\projecta\\lib\\site-packages (from cffi>=1.14->trio~=0.17->selenium) (2.22)\n",
      "Requirement already satisfied: h11<1,>=0.9.0 in c:\\users\\cccch\\onedrive\\desktop\\myprojecta\\projecta\\lib\\site-packages (from wsproto>=0.14->trio-websocket~=0.9->selenium) (0.14.0)\n"
     ]
    }
   ],
   "source": [
    "! pip install selenium\n",
    "\n"
   ]
  },
  {
   "cell_type": "code",
   "execution_count": 14,
   "metadata": {},
   "outputs": [
    {
     "name": "stderr",
     "output_type": "stream",
     "text": [
      "c:\\Users\\cccch\\OneDrive\\Desktop\\myprojecta\\projecta\\Group_project(silver)\\final_version.py:219: SyntaxWarning: invalid escape sequence '\\$'\n",
      "  wellcome_price_df['selling_price'] = wellcome_price_df['selling_price'].replace({'\\$': ''}, regex=True)\n",
      "Traceback (most recent call last):\n",
      "  File \"c:\\Users\\cccch\\OneDrive\\Desktop\\myprojecta\\projecta\\Group_project(silver)\\final_version.py\", line 24, in <module>\n",
      "    driver.maximize_window()\n",
      "  File \"c:\\Users\\cccch\\OneDrive\\Desktop\\myprojecta\\projecta\\Lib\\site-packages\\selenium\\webdriver\\remote\\webdriver.py\", line 499, in maximize_window\n",
      "    self.execute(command, None)\n",
      "  File \"c:\\Users\\cccch\\OneDrive\\Desktop\\myprojecta\\projecta\\Lib\\site-packages\\selenium\\webdriver\\remote\\webdriver.py\", line 347, in execute\n",
      "    self.error_handler.check_response(response)\n",
      "  File \"c:\\Users\\cccch\\OneDrive\\Desktop\\myprojecta\\projecta\\Lib\\site-packages\\selenium\\webdriver\\remote\\errorhandler.py\", line 229, in check_response\n",
      "    raise exception_class(message, screen, stacktrace)\n",
      "selenium.common.exceptions.NoSuchWindowException: Message: no such window: target window already closed\n",
      "from unknown error: web view not found\n",
      "  (Session info: chrome=126.0.6478.62)\n",
      "Stacktrace:\n",
      "\tGetHandleVerifier [0x00007FF64EA73E32+31618]\n",
      "\t(No symbol) [0x00007FF64E9EB099]\n",
      "\t(No symbol) [0x00007FF64E8A888A]\n",
      "\t(No symbol) [0x00007FF64E87DAE5]\n",
      "\t(No symbol) [0x00007FF64E9245A7]\n",
      "\t(No symbol) [0x00007FF64E93C131]\n",
      "\t(No symbol) [0x00007FF64E91CEB3]\n",
      "\t(No symbol) [0x00007FF64E8EA46B]\n",
      "\t(No symbol) [0x00007FF64E8EB001]\n",
      "\tGetHandleVerifier [0x00007FF64ED79FFD+3202381]\n",
      "\tGetHandleVerifier [0x00007FF64EDC6A1D+3516269]\n",
      "\tGetHandleVerifier [0x00007FF64EDBC490+3473888]\n",
      "\tGetHandleVerifier [0x00007FF64EB25D36+760454]\n",
      "\t(No symbol) [0x00007FF64E9F6B3F]\n",
      "\t(No symbol) [0x00007FF64E9F1CD4]\n",
      "\t(No symbol) [0x00007FF64E9F1E62]\n",
      "\t(No symbol) [0x00007FF64E9E120F]\n",
      "\tBaseThreadInitThunk [0x00007FFF31D0257D+29]\n",
      "\tRtlUserThreadStart [0x00007FFF32E2AF28+40]\n",
      "\n"
     ]
    }
   ],
   "source": [
    "! python hktvmall_submit_ver.py\n",
    "\n",
    "\n"
   ]
  },
  {
   "cell_type": "code",
   "execution_count": null,
   "metadata": {},
   "outputs": [],
   "source": [
    "! python wellcome_submit_ver.py"
   ]
  },
  {
   "cell_type": "code",
   "execution_count": 5,
   "metadata": {},
   "outputs": [],
   "source": [
    "! python pns_submit_ver.py"
   ]
  }
 ],
 "metadata": {
  "kernelspec": {
   "display_name": "projecta",
   "language": "python",
   "name": "python3"
  },
  "language_info": {
   "codemirror_mode": {
    "name": "ipython",
    "version": 3
   },
   "file_extension": ".py",
   "mimetype": "text/x-python",
   "name": "python",
   "nbconvert_exporter": "python",
   "pygments_lexer": "ipython3",
   "version": "3.12.4"
  }
 },
 "nbformat": 4,
 "nbformat_minor": 2
}
